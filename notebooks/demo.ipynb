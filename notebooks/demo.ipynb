{
 "cells": [
  {
   "cell_type": "markdown",
   "metadata": {
    "jp-MarkdownHeadingCollapsed": true
   },
   "source": [
    "### Importing necessary libraries"
   ]
  },
  {
   "cell_type": "code",
   "execution_count": 1,
   "metadata": {},
   "outputs": [
    {
     "data": {
      "text/plain": [
       "True"
      ]
     },
     "execution_count": 1,
     "metadata": {},
     "output_type": "execute_result"
    }
   ],
   "source": [
    "import json\n",
    "import os\n",
    "import time\n",
    "import warnings\n",
    "\n",
    "from dotenv import load_dotenv\n",
    "from functools import partial\n",
    "from pathlib import Path\n",
    "\n",
    "import html2text\n",
    "import matplotlib.pyplot as plt\n",
    "import numpy as np\n",
    "import pandas as pd\n",
    "import openai\n",
    "import requests\n",
    "from langchain.embeddings import OpenAIEmbeddings\n",
    "from langchain.embeddings.huggingface import HuggingFaceEmbeddings\n",
    "from langchain.text_splitter import RecursiveCharacterTextSplitter\n",
    "from sklearnrag.config import WORK_DIR\n",
    "from pinecone import Pinecone, ServerlessSpec\n",
    "from tqdm import tqdm\n",
    "\n",
    "from sklearnrag.parser import extract_sections\n",
    "\n",
    "warnings.filterwarnings(\"ignore\")\n",
    "load_dotenv()"
   ]
  },
  {
   "cell_type": "markdown",
   "metadata": {
    "jp-MarkdownHeadingCollapsed": true
   },
   "source": [
    "### Loading the docs"
   ]
  },
  {
   "cell_type": "code",
   "execution_count": 2,
   "metadata": {},
   "outputs": [
    {
     "name": "stdout",
     "output_type": "stream",
     "text": [
      "1002 documents\n"
     ]
    }
   ],
   "source": [
    "DOCS_DIR = Path(WORK_DIR, \"scikit-learn.org/stable/\")\n",
    "html_files = [path for path in DOCS_DIR.rglob(\"*html\") if not path.is_dir() and \"lite\" not in path.parts]\n",
    "\n",
    "print(f\"{len(html_files)} documents\")"
   ]
  },
  {
   "cell_type": "markdown",
   "metadata": {
    "jp-MarkdownHeadingCollapsed": true
   },
   "source": [
    "### Extracting all sections from each page"
   ]
  },
  {
   "cell_type": "code",
   "execution_count": 3,
   "metadata": {},
   "outputs": [
    {
     "name": "stderr",
     "output_type": "stream",
     "text": [
      "100%|███████████████████████████████████████| 1002/1002 [00:55<00:00, 18.12it/s]"
     ]
    },
    {
     "name": "stdout",
     "output_type": "stream",
     "text": [
      "Total sections :3396\n"
     ]
    },
    {
     "name": "stderr",
     "output_type": "stream",
     "text": [
      "\n"
     ]
    }
   ],
   "source": [
    "all_sections = list()\n",
    "\n",
    "for file in tqdm(html_files):\n",
    "    for section in extract_sections({'path': str(file)}):\n",
    "        all_sections.append(section)\n",
    "        \n",
    "sections_count = len(all_sections)\n",
    "\n",
    "print(f\"Total sections :{sections_count}\")"
   ]
  },
  {
   "cell_type": "code",
   "execution_count": 4,
   "metadata": {},
   "outputs": [
    {
     "name": "stdout",
     "output_type": "stream",
     "text": [
      "Source : https://scikit-learn.org/stable/modules/generated/sklearn.model_selection.train_test_split.html#sklearn-model-selection-train-test-split\n",
      "--------------------------------------------------------------------------------------------------------------------------------------------------------------------------------------------------------\n",
      "Text : \n",
      " #  [ ` sklearn.model_selection  ` ](../classes.html#module-\n",
      "sklearn.model_selection \"sklearn.model_selection\") .train_test_split [ ¶\n",
      "](sklearn.model_selection.train_test_split.html#sklearn-model-selec\n"
     ]
    }
   ],
   "source": [
    "sample_html_fp = Path(WORK_DIR, \"scikit-learn.org/stable/modules/generated/sklearn.model_selection.train_test_split.html\")\n",
    "sample_page = extract_sections({\"path\": sample_html_fp})\n",
    "\n",
    "\n",
    "print(f\"Source : {sample_page[0]['source']}\")\n",
    "print(\"--\"*100)\n",
    "print(f\"Text : \\n {sample_page[0]['text'][:200]}\")"
   ]
  },
  {
   "cell_type": "markdown",
   "metadata": {
    "jp-MarkdownHeadingCollapsed": true
   },
   "source": [
    "### Distribution of different section lengths"
   ]
  },
  {
   "cell_type": "code",
   "execution_count": 5,
   "metadata": {},
   "outputs": [],
   "source": [
    "sections_df = pd.DataFrame(all_sections)"
   ]
  },
  {
   "cell_type": "code",
   "execution_count": 6,
   "metadata": {},
   "outputs": [
    {
     "data": {
      "text/html": [
       "<div>\n",
       "<style scoped>\n",
       "    .dataframe tbody tr th:only-of-type {\n",
       "        vertical-align: middle;\n",
       "    }\n",
       "\n",
       "    .dataframe tbody tr th {\n",
       "        vertical-align: top;\n",
       "    }\n",
       "\n",
       "    .dataframe thead th {\n",
       "        text-align: right;\n",
       "    }\n",
       "</style>\n",
       "<table border=\"1\" class=\"dataframe\">\n",
       "  <thead>\n",
       "    <tr style=\"text-align: right;\">\n",
       "      <th></th>\n",
       "      <th>source</th>\n",
       "      <th>text</th>\n",
       "    </tr>\n",
       "  </thead>\n",
       "  <tbody>\n",
       "    <tr>\n",
       "      <th>0</th>\n",
       "      <td>https://scikit-learn.org/stable/related_projec...</td>\n",
       "      <td>#  Related Projects [ ¶ ](related_projects.htm...</td>\n",
       "    </tr>\n",
       "    <tr>\n",
       "      <th>1</th>\n",
       "      <td>https://scikit-learn.org/stable/related_projec...</td>\n",
       "      <td>##  Interoperability and framework enhancement...</td>\n",
       "    </tr>\n",
       "    <tr>\n",
       "      <th>2</th>\n",
       "      <td>https://scikit-learn.org/stable/related_projec...</td>\n",
       "      <td>##  Other estimators and tasks [ ¶ ](related_p...</td>\n",
       "    </tr>\n",
       "    <tr>\n",
       "      <th>3</th>\n",
       "      <td>https://scikit-learn.org/stable/related_projec...</td>\n",
       "      <td>##  Statistical learning with Python [ ¶ ](rel...</td>\n",
       "    </tr>\n",
       "    <tr>\n",
       "      <th>4</th>\n",
       "      <td>https://scikit-learn.org/stable/related_projec...</td>\n",
       "      <td>###  Recommendation Engine packages [ ¶\\n](rel...</td>\n",
       "    </tr>\n",
       "  </tbody>\n",
       "</table>\n",
       "</div>"
      ],
      "text/plain": [
       "                                              source  \\\n",
       "0  https://scikit-learn.org/stable/related_projec...   \n",
       "1  https://scikit-learn.org/stable/related_projec...   \n",
       "2  https://scikit-learn.org/stable/related_projec...   \n",
       "3  https://scikit-learn.org/stable/related_projec...   \n",
       "4  https://scikit-learn.org/stable/related_projec...   \n",
       "\n",
       "                                                text  \n",
       "0  #  Related Projects [ ¶ ](related_projects.htm...  \n",
       "1  ##  Interoperability and framework enhancement...  \n",
       "2  ##  Other estimators and tasks [ ¶ ](related_p...  \n",
       "3  ##  Statistical learning with Python [ ¶ ](rel...  \n",
       "4  ###  Recommendation Engine packages [ ¶\\n](rel...  "
      ]
     },
     "execution_count": 6,
     "metadata": {},
     "output_type": "execute_result"
    }
   ],
   "source": [
    "sections_df.head()"
   ]
  },
  {
   "cell_type": "code",
   "execution_count": 7,
   "metadata": {},
   "outputs": [],
   "source": [
    "sections_df['length'] = sections_df['text'].apply(len)"
   ]
  },
  {
   "cell_type": "code",
   "execution_count": 8,
   "metadata": {},
   "outputs": [
    {
     "data": {
      "text/plain": [
       "(3396, 3)"
      ]
     },
     "execution_count": 8,
     "metadata": {},
     "output_type": "execute_result"
    }
   ],
   "source": [
    "sections_df.shape"
   ]
  },
  {
   "cell_type": "code",
   "execution_count": 9,
   "metadata": {},
   "outputs": [
    {
     "data": {
      "image/png": "[encoded data removed]",
      "text/plain": [
       "<Figure size 1200x300 with 1 Axes>"
      ]
     },
     "metadata": {},
     "output_type": "display_data"
    }
   ],
   "source": [
    "# Plot\n",
    "plt.figure(figsize=(12, 3))\n",
    "plt.plot(sections_df['length'], marker='o')\n",
    "plt.title(\"Section lengths\")\n",
    "plt.xlabel(\"Number of sections\")\n",
    "plt.ylabel(\"Number of characters\")\n",
    "plt.show()"
   ]
  },
  {
   "cell_type": "markdown",
   "metadata": {
    "jp-MarkdownHeadingCollapsed": true
   },
   "source": [
    "### Chunking "
   ]
  },
  {
   "cell_type": "code",
   "execution_count": 10,
   "metadata": {},
   "outputs": [],
   "source": [
    "from sklearnrag.chunk import chunk_sections"
   ]
  },
  {
   "cell_type": "code",
   "execution_count": 11,
   "metadata": {},
   "outputs": [],
   "source": [
    "chunks = chunk_sections(all_sections,chunk_size=1000, chunk_overlap=100)"
   ]
  },
  {
   "cell_type": "code",
   "execution_count": 12,
   "metadata": {},
   "outputs": [
    {
     "data": {
      "text/plain": [
       "30849"
      ]
     },
     "execution_count": 12,
     "metadata": {},
     "output_type": "execute_result"
    }
   ],
   "source": [
    "len(chunks)"
   ]
  },
  {
   "cell_type": "code",
   "execution_count": 13,
   "metadata": {},
   "outputs": [
    {
     "data": {
      "text/plain": [
       "{'text': '#  Related Projects [ ¶ ](related_projects.html#related-projects \"Link to this\\nheading\")\\n\\nProjects implementing the scikit-learn estimator API are encouraged to use the\\n[ scikit-learn-contrib template ](https://github.com/scikit-learn-\\ncontrib/project-template) which facilitates best practices for testing and\\ndocumenting estimators. The [ scikit-learn-contrib GitHub organization\\n](https://github.com/scikit-learn-contrib/scikit-learn-contrib) also accepts\\nhigh-quality contributions of repositories conforming to this template.\\n\\nBelow is a list of sister-projects, extensions and domain specific packages.\\n\\n##  Interoperability and framework enhancements [ ¶\\n](related_projects.html#interoperability-and-framework-enhancements \"Link to\\nthis heading\")\\n\\nThese tools adapt scikit-learn for use with other technologies or otherwise\\nenhance the functionality of scikit-learn’s estimators.\\n\\n**Data formats**',\n",
       " 'source': 'https://scikit-learn.org/stable/related_projects.html#related-projects'}"
      ]
     },
     "execution_count": 13,
     "metadata": {},
     "output_type": "execute_result"
    }
   ],
   "source": [
    "# Sample chunk\n",
    "chunks[0]"
   ]
  },
  {
   "cell_type": "markdown",
   "metadata": {
    "jp-MarkdownHeadingCollapsed": true
   },
   "source": [
    "### Embedding the data"
   ]
  },
  {
   "cell_type": "code",
   "execution_count": 14,
   "metadata": {},
   "outputs": [],
   "source": [
    "from sklearnrag.embedding import EmbedChunks\n",
    "\n",
    "EMBEDDING_MODELS = {}"
   ]
  },
  {
   "cell_type": "markdown",
   "metadata": {},
   "source": [
    "#### 1. thenlper/gte-base"
   ]
  },
  {
   "cell_type": "code",
   "execution_count": 15,
   "metadata": {},
   "outputs": [],
   "source": [
    "def load_or_create_embeddings(model_name, chunks, chunk_size = 1000):\n",
    "    embeddings_file_name = f\"{model_name.split('/')[-1]}-{chunk_size}.json\"\n",
    "    embeddings_file_path = Path(WORK_DIR, \"saved_embeddings\", embeddings_file_name)\n",
    "    \n",
    "    # Check if embeddings file exists\n",
    "    if embeddings_file_path.exists():\n",
    "        with open(embeddings_file_path, 'r') as file:\n",
    "            embeddings = json.load(file)\n",
    "    else:\n",
    "        # Initialize the embedding model\n",
    "        embedder = EmbedChunks(model_name=model_name)\n",
    "        embeddings = embedder.process_chunks(chunks)\n",
    "        \n",
    "        # Save the embeddings to a file\n",
    "        with open(embeddings_file_path, 'w') as file:\n",
    "            json.dump(embeddings, file, indent=4)\n",
    "    \n",
    "    return embeddings"
   ]
  },
  {
   "cell_type": "code",
   "execution_count": 16,
   "metadata": {},
   "outputs": [],
   "source": [
    "model_name = \"thenlper/gte-base\"\n",
    "chunk_size = 1000\n",
    "\n",
    "# Load or create embeddings\n",
    "embeddings = load_or_create_embeddings(model_name, chunks, chunk_size)\n",
    "EMBEDDING_MODELS[model_name] = embeddings"
   ]
  },
  {
   "cell_type": "code",
   "execution_count": 17,
   "metadata": {},
   "outputs": [
    {
     "data": {
      "text/plain": [
       "dict_keys(['thenlper/gte-base'])"
      ]
     },
     "execution_count": 17,
     "metadata": {},
     "output_type": "execute_result"
    }
   ],
   "source": [
    "EMBEDDING_MODELS.keys()"
   ]
  },
  {
   "cell_type": "markdown",
   "metadata": {},
   "source": [
    "#### 2. thenlper/gte-large"
   ]
  },
  {
   "cell_type": "code",
   "execution_count": 18,
   "metadata": {},
   "outputs": [],
   "source": [
    "model_name = \"thenlper/gte-large\"\n",
    "chunk_size = 1000\n",
    "\n",
    "# Load or create embeddings\n",
    "embeddings = load_or_create_embeddings(model_name, chunks, chunk_size)\n",
    "EMBEDDING_MODELS[model_name] = embeddings"
   ]
  },
  {
   "cell_type": "code",
   "execution_count": 19,
   "metadata": {},
   "outputs": [
    {
     "data": {
      "text/plain": [
       "dict_keys(['thenlper/gte-base', 'thenlper/gte-large'])"
      ]
     },
     "execution_count": 19,
     "metadata": {},
     "output_type": "execute_result"
    }
   ],
   "source": [
    "EMBEDDING_MODELS.keys()"
   ]
  },
  {
   "cell_type": "markdown",
   "metadata": {},
   "source": [
    "#### 3. text-embedding-3-large\t"
   ]
  },
  {
   "cell_type": "code",
   "execution_count": 20,
   "metadata": {
    "scrolled": true
   },
   "outputs": [],
   "source": [
    "model_name = \"text-embedding-3-large\"\n",
    "chunk_size = 1000\n",
    "\n",
    "# Load or create embeddings\n",
    "embeddings = load_or_create_embeddings(model_name, chunks, chunk_size)\n",
    "EMBEDDING_MODELS[model_name] = embeddings"
   ]
  },
  {
   "cell_type": "code",
   "execution_count": 21,
   "metadata": {},
   "outputs": [
    {
     "data": {
      "text/plain": [
       "dict_keys(['thenlper/gte-base', 'thenlper/gte-large', 'text-embedding-3-large'])"
      ]
     },
     "execution_count": 21,
     "metadata": {},
     "output_type": "execute_result"
    }
   ],
   "source": [
    "EMBEDDING_MODELS.keys()"
   ]
  },
  {
   "cell_type": "markdown",
   "metadata": {
    "jp-MarkdownHeadingCollapsed": true
   },
   "source": [
    "### Upserting embeddings to Pinecone"
   ]
  },
  {
   "cell_type": "code",
   "execution_count": 22,
   "metadata": {},
   "outputs": [],
   "source": [
    "from pinecone import Pinecone\n",
    "from sklearnrag.vectordb import PineconeIndex"
   ]
  },
  {
   "cell_type": "code",
   "execution_count": 23,
   "metadata": {},
   "outputs": [],
   "source": [
    "PINECONE_INDEXES = {}"
   ]
  },
  {
   "cell_type": "code",
   "execution_count": 24,
   "metadata": {},
   "outputs": [],
   "source": [
    "def load_or_create_index(index_name):\n",
    "    pc = PineconeIndex()\n",
    "    \n",
    "    existing_indexes = [\n",
    "        index_info[\"name\"] for index_info in Pinecone().list_indexes()\n",
    "    ]\n",
    "    \n",
    "    if index_name not in existing_indexes:\n",
    "        index = pc.create_index(index_name, 768)\n",
    "        index = pc.get_index(index_name)\n",
    "        pc.upsert_data(index, EMBEDDING_MODELS['thenlper/gte-base'])\n",
    "    \n",
    "    PINECONE_INDEXES[index_name] = pc.Index(index_name) \n",
    "    \n",
    "    return PINECONE_INDEXES[index_name]"
   ]
  },
  {
   "cell_type": "markdown",
   "metadata": {},
   "source": [
    "#### 1. thenlper/gte-base"
   ]
  },
  {
   "cell_type": "code",
   "execution_count": 25,
   "metadata": {},
   "outputs": [
    {
     "data": {
      "text/plain": [
       "<pinecone.data.index.Index at 0x31170ed30>"
      ]
     },
     "execution_count": 25,
     "metadata": {},
     "output_type": "execute_result"
    }
   ],
   "source": [
    "index_name = \"gte-base-1000\"\n",
    "load_or_create_index(index_name)"
   ]
  },
  {
   "cell_type": "code",
   "execution_count": 26,
   "metadata": {},
   "outputs": [
    {
     "data": {
      "text/plain": [
       "{'gte-base-1000': <pinecone.data.index.Index at 0x31170ed30>}"
      ]
     },
     "execution_count": 26,
     "metadata": {},
     "output_type": "execute_result"
    }
   ],
   "source": [
    "PINECONE_INDEXES"
   ]
  },
  {
   "cell_type": "markdown",
   "metadata": {},
   "source": [
    "#### 2. thenlper/gte-large"
   ]
  },
  {
   "cell_type": "code",
   "execution_count": 27,
   "metadata": {},
   "outputs": [
    {
     "data": {
      "text/plain": [
       "<pinecone.data.index.Index at 0x163b4bbe0>"
      ]
     },
     "execution_count": 27,
     "metadata": {},
     "output_type": "execute_result"
    }
   ],
   "source": [
    "index_name = \"gte-large-1000\"\n",
    "load_or_create_index(index_name)"
   ]
  },
  {
   "cell_type": "code",
   "execution_count": 28,
   "metadata": {},
   "outputs": [
    {
     "data": {
      "text/plain": [
       "{'gte-base-1000': <pinecone.data.index.Index at 0x31170ed30>,\n",
       " 'gte-large-1000': <pinecone.data.index.Index at 0x163b4bbe0>}"
      ]
     },
     "execution_count": 28,
     "metadata": {},
     "output_type": "execute_result"
    }
   ],
   "source": [
    "PINECONE_INDEXES"
   ]
  },
  {
   "cell_type": "markdown",
   "metadata": {},
   "source": [
    "#### 3. text-embedding-3-large\t"
   ]
  },
  {
   "cell_type": "code",
   "execution_count": 29,
   "metadata": {},
   "outputs": [
    {
     "data": {
      "text/plain": [
       "<pinecone.data.index.Index at 0x46e5c7e50>"
      ]
     },
     "execution_count": 29,
     "metadata": {},
     "output_type": "execute_result"
    }
   ],
   "source": [
    "index_name = \"text-embedding-3-large-1000\"\n",
    "load_or_create_index(index_name)"
   ]
  },
  {
   "cell_type": "code",
   "execution_count": 30,
   "metadata": {},
   "outputs": [
    {
     "data": {
      "text/plain": [
       "{'gte-base-1000': <pinecone.data.index.Index at 0x31170ed30>,\n",
       " 'gte-large-1000': <pinecone.data.index.Index at 0x163b4bbe0>,\n",
       " 'text-embedding-3-large-1000': <pinecone.data.index.Index at 0x46e5c7e50>}"
      ]
     },
     "execution_count": 30,
     "metadata": {},
     "output_type": "execute_result"
    }
   ],
   "source": [
    "PINECONE_INDEXES"
   ]
  },
  {
   "cell_type": "markdown",
   "metadata": {
    "jp-MarkdownHeadingCollapsed": true
   },
   "source": [
    "### Retrieval"
   ]
  },
  {
   "cell_type": "code",
   "execution_count": 35,
   "metadata": {},
   "outputs": [],
   "source": [
    "from sklearnrag.search import semantic_search\n",
    "from sklearnrag.embedding import get_embedding_model\n",
    "import torch"
   ]
  },
  {
   "cell_type": "code",
   "execution_count": 41,
   "metadata": {
    "scrolled": true
   },
   "outputs": [
    {
     "data": {
      "text/plain": [
       "[{'id': '14056',\n",
       "  'text': '# Split dataset to select feature and evaluate the classifier\\n    X_train, X_test, y_train, y_test = [train_test_split](../../modules/generated/sklearn.model_selection.train_test_split.html#sklearn.model_selection.train_test_split \"sklearn.model_selection.train_test_split\")(X, y, stratify=y, random_state=0)\\n    \\n[/code]',\n",
       "  'source': 'https://scikit-learn.org/stable/auto_examples/feature_selection/plot_feature_selection.html#generate-sample-data'},\n",
       " {'id': '14037',\n",
       "  'text': '# Split dataset to select feature and evaluate the classifier\\n    X_train, X_test, y_train, y_test = [train_test_split](../../modules/generated/sklearn.model_selection.train_test_split.html#sklearn.model_selection.train_test_split \"sklearn.model_selection.train_test_split\")(X, y, stratify=y, random_state=0)\\n    \\n[/code]',\n",
       "  'source': 'https://scikit-learn.org/stable/auto_examples/feature_selection/plot_feature_selection.html#univariate-feature-selection'},\n",
       " {'id': '12539',\n",
       "  'text': 'Split the data in train set and test set\\n\\n[code]\\n\\n    from sklearn.model_selection import [train_test_split](../../modules/generated/sklearn.model_selection.train_test_split.html#sklearn.model_selection.train_test_split \"sklearn.model_selection.train_test_split\")\\n    \\n    X_train, X_test, y_train, y_test = [train_test_split](../../modules/generated/sklearn.model_selection.train_test_split.html#sklearn.model_selection.train_test_split \"sklearn.model_selection.train_test_split\")(X, y, test_size=0.5)\\n    \\n[/code]\\n\\nFit the Non-Negative least squares.\\n\\n[code]',\n",
       "  'source': 'https://scikit-learn.org/stable/auto_examples/linear_model/plot_nnls.html#non-negative-least-squares'},\n",
       " {'id': '25444',\n",
       "  'text': '#  [ ` sklearn.model_selection  ` ](../classes.html#module-\\nsklearn.model_selection \"sklearn.model_selection\") .train_test_split [ ¶\\n](sklearn.model_selection.train_test_split.html#sklearn-model-selection-train-\\ntest-split \"Link to this heading\")\\n\\nsklearn.model_selection.  train_test_split  (  _ *  arrays  _ , _ test_size  =\\nNone  _ , _ train_size  =  None  _ , _ random_state  =  None  _ , _ shuffle  =\\nTrue  _ , _ stratify  =  None  _ )  [ [source]  ](https://github.com/scikit-\\nlearn/scikit-learn/blob/5c4aa5d0d/sklearn/model_selection/_split.py#L2543) [ ¶\\n](sklearn.model_selection.train_test_split.html#sklearn.model_selection.train_test_split\\n\"Link to this definition\")\\n\\n    \\n\\nSplit arrays or matrices into random train and test subsets.\\n\\nQuick utility that wraps input validation, ` next(ShuffleSplit().split(X,  y))\\n` , and application to input data into a single call for splitting (and\\noptionally subsampling) data into a one-liner.',\n",
       "  'source': 'https://scikit-learn.org/stable/modules/generated/sklearn.model_selection.train_test_split.html#sklearn-model-selection-train-test-split'},\n",
       " {'id': '21532',\n",
       "  'text': 'The above group cross-validation functions may also be useful for splitting a\\ndataset into training and testing subsets. Note that the convenience function\\n[ ` train_test_split  `\\n](generated/sklearn.model_selection.train_test_split.html#sklearn.model_selection.train_test_split\\n\"sklearn.model_selection.train_test_split\") is a wrapper around [ `\\nShuffleSplit  `\\n](generated/sklearn.model_selection.ShuffleSplit.html#sklearn.model_selection.ShuffleSplit\\n\"sklearn.model_selection.ShuffleSplit\") and thus only allows for stratified\\nsplitting (using the class labels) and cannot account for groups.\\n\\nTo perform the train and test split, use the indices for the train and test\\nsubsets yielded by the generator output by the ` split()  ` method of the\\ncross-validation splitter. For example:\\n\\n[code]',\n",
       "  'source': 'https://scikit-learn.org/stable/modules/cross_validation.html#cross-validation-iterators'}]"
      ]
     },
     "execution_count": 41,
     "metadata": {},
     "output_type": "execute_result"
    }
   ],
   "source": [
    "query = \"How do i divide my dataset into train, test and validation split?\"\n",
    "index = PINECONE_INDEXES[\"gte-base-1000\"]\n",
    "embedding_model_name = \"thenlper/gte-base\"\n",
    "device = \"cuda\" if torch.cuda.is_available() else \"cpu\"\n",
    "\n",
    "embedding_model = get_embedding_model(\n",
    "            embedding_model_name=embedding_model_name,\n",
    "            model_kwargs={\"device\": device},\n",
    "            encode_kwargs={\"device\": device, \"batch_size\": 100},)\n",
    "\n",
    "semantic_search(query,index,embedding_model,5)"
   ]
  },
  {
   "cell_type": "markdown",
   "metadata": {
    "jp-MarkdownHeadingCollapsed": true
   },
   "source": [
    "### Generate response"
   ]
  },
  {
   "cell_type": "code",
   "execution_count": 46,
   "metadata": {},
   "outputs": [],
   "source": [
    "def response_stream(chat_completion):\n",
    "    for chunk in chat_completion:\n",
    "        content = chunk.choices[0].delta.content\n",
    "        if content is not None:\n",
    "            yield content\n",
    "\n",
    "def prepare_response(chat_completion, stream):\n",
    "    if stream:\n",
    "        return response_stream(chat_completion)\n",
    "    else:\n",
    "        return chat_completion.choices[0].message.content\n",
    "\n",
    "def get_client(llm):\n",
    "    if llm.startswith(\"gpt\"):\n",
    "        base_url = os.environ[\"OPENAI_API_BASE\"]\n",
    "        api_key = os.environ[\"OPENAI_API_KEY\"]\n",
    "    else:\n",
    "        base_url = os.environ[\"ANYSCALE_API_BASE\"]\n",
    "        api_key = os.environ[\"ANYSCALE_API_KEY\"]\n",
    "    client = openai.OpenAI(base_url = base_url, api_key=api_key)\n",
    "    return client"
   ]
  },
  {
   "cell_type": "code",
   "execution_count": 47,
   "metadata": {},
   "outputs": [],
   "source": [
    "def generate_response(llm, temperature=0.0, stream=True, system_content=\"\",\n",
    "                      assistant_content=\"\", user_content=\"\", max_retries=1, retry_interval=60):\n",
    "    \"\"\"Generate response from an LLM.\"\"\"\n",
    "    retry_count = 0\n",
    "    client = get_client(llm=llm)\n",
    "    messages = [{\"role\": role, \"content\": content} for role, content in [\n",
    "        (\"system\", system_content), \n",
    "        (\"assistant\", assistant_content), \n",
    "        (\"user\", user_content)] if content]\n",
    "    while retry_count <= max_retries:\n",
    "        try:\n",
    "            chat_completion = client.chat.completions.create(\n",
    "                model=llm,\n",
    "                temperature=temperature,\n",
    "                stream=stream,\n",
    "                messages=messages,\n",
    "            )\n",
    "            return prepare_response(chat_completion, stream=stream)\n",
    "\n",
    "        except Exception as e:\n",
    "            print(f\"Exception: {e}\")\n",
    "            time.sleep(retry_interval)  # default is per-minute rate limits\n",
    "            retry_count += 1\n",
    "    return \"\""
   ]
  },
  {
   "cell_type": "code",
   "execution_count": 48,
   "metadata": {},
   "outputs": [],
   "source": [
    "query = \"What are the required parameters for train_test_split method?\"\n",
    "context_results = semantic_search(query=query, embedding_model=embedding_model, index=index, k=5)\n",
    "context = [item[\"text\"] for item in context_results]\n",
    "sources = [item[\"source\"] for item in context_results]"
   ]
  },
  {
   "cell_type": "code",
   "execution_count": 49,
   "metadata": {
    "scrolled": true
   },
   "outputs": [
    {
     "name": "stdout",
     "output_type": "stream",
     "text": [
      "https://scikit-learn.org/stable/auto_examples/compose/plot_transformed_target.html#effect-of-transforming-the-targets-in-regression-model\n",
      "X_train, X_test, y_train, y_test = [train_test_split](../../modules/generated/sklearn.model_selection.train_test_split.html#sklearn.model_selection.train_test_split \"sklearn.model_selection.train_test_split\")(X, y, random_state=0)\n",
      "    \n",
      "[/code]\n",
      "----------------------------------------------------------------------------------------------------\n",
      "https://scikit-learn.org/stable/auto_examples/compose/plot_transformed_target.html#synthetic-example\n",
      "X_train, X_test, y_train, y_test = [train_test_split](../../modules/generated/sklearn.model_selection.train_test_split.html#sklearn.model_selection.train_test_split \"sklearn.model_selection.train_test_split\")(X, y, random_state=0)\n",
      "    \n",
      "[/code]\n",
      "----------------------------------------------------------------------------------------------------\n",
      "https://scikit-learn.org/stable/modules/generated/sklearn.model_selection.train_test_split.html#sklearn-model-selection-train-test-split\n",
      "#  [ ` sklearn.model_selection  ` ](../classes.html#module-\n",
      "sklearn.model_selection \"sklearn.model_selection\") .train_test_split [ ¶\n",
      "](sklearn.model_selection.train_test_split.html#sklearn-model-selection-train-\n",
      "test-split \"Link to this heading\")\n",
      "\n",
      "sklearn.model_selection.  train_test_split  (  _ *  arrays  _ , _ test_size  =\n",
      "None  _ , _ train_size  =  None  _ , _ random_state  =  None  _ , _ shuffle  =\n",
      "True  _ , _ stratify  =  None  _ )  [ [source]  ](https://github.com/scikit-\n",
      "learn/scikit-learn/blob/5c4aa5d0d/sklearn/model_selection/_split.py#L2543) [ ¶\n",
      "](sklearn.model_selection.train_test_split.html#sklearn.model_selection.train_test_split\n",
      "\"Link to this definition\")\n",
      "\n",
      "    \n",
      "\n",
      "Split arrays or matrices into random train and test subsets.\n",
      "\n",
      "Quick utility that wraps input validation, ` next(ShuffleSplit().split(X,  y))\n",
      "` , and application to input data into a single call for splitting (and\n",
      "optionally subsampling) data into a one-liner.\n",
      "----------------------------------------------------------------------------------------------------\n",
      "https://scikit-learn.org/stable/auto_examples/ensemble/plot_gradient_boosting_regularization.html#gradient-boosting-regularization\n",
      "X_train, X_test, y_train, y_test = [train_test_split](../../modules/generated/sklearn.model_selection.train_test_split.html#sklearn.model_selection.train_test_split \"sklearn.model_selection.train_test_split\")(X, y, test_size=0.8, random_state=0)\n",
      "    \n",
      "    original_params = {\n",
      "        \"n_estimators\": 400,\n",
      "        \"max_leaf_nodes\": 4,\n",
      "        \"max_depth\": None,\n",
      "        \"random_state\": 2,\n",
      "        \"min_samples_split\": 5,\n",
      "    }\n",
      "    \n",
      "    [plt.figure](https://matplotlib.org/stable/api/_as_gen/matplotlib.pyplot.figure.html#matplotlib.pyplot.figure \"matplotlib.pyplot.figure\")()\n",
      "    \n",
      "    for label, color, setting in [\n",
      "        (\"No shrinkage\", \"orange\", {\"learning_rate\": 1.0, \"subsample\": 1.0}),\n",
      "        (\"learning_rate=0.2\", \"turquoise\", {\"learning_rate\": 0.2, \"subsample\": 1.0}),\n",
      "        (\"subsample=0.5\", \"blue\", {\"learning_rate\": 1.0, \"subsample\": 0.5}),\n",
      "        (\n",
      "            \"learning_rate=0.2, subsample=0.5\",\n",
      "            \"gray\",\n",
      "            {\"learning_rate\": 0.2, \"subsample\": 0.5},\n",
      "----------------------------------------------------------------------------------------------------\n",
      "https://scikit-learn.org/stable/auto_examples/linear_model/plot_nnls.html#non-negative-least-squares\n",
      "Split the data in train set and test set\n",
      "\n",
      "[code]\n",
      "\n",
      "    from sklearn.model_selection import [train_test_split](../../modules/generated/sklearn.model_selection.train_test_split.html#sklearn.model_selection.train_test_split \"sklearn.model_selection.train_test_split\")\n",
      "    \n",
      "    X_train, X_test, y_train, y_test = [train_test_split](../../modules/generated/sklearn.model_selection.train_test_split.html#sklearn.model_selection.train_test_split \"sklearn.model_selection.train_test_split\")(X, y, test_size=0.5)\n",
      "    \n",
      "[/code]\n",
      "\n",
      "Fit the Non-Negative least squares.\n",
      "\n",
      "[code]\n",
      "----------------------------------------------------------------------------------------------------\n"
     ]
    }
   ],
   "source": [
    "for text, source in zip(context,sources):\n",
    "    print(source)\n",
    "    print(text)\n",
    "    print(\"--\"*50)"
   ]
  },
  {
   "cell_type": "code",
   "execution_count": 50,
   "metadata": {},
   "outputs": [
    {
     "name": "stderr",
     "output_type": "stream",
     "text": [
      "huggingface/tokenizers: The current process just got forked, after parallelism has already been used. Disabling parallelism to avoid deadlocks...\n",
      "To disable this warning, you can either:\n",
      "\t- Avoid using `tokenizers` before the fork if possible\n",
      "\t- Explicitly set the environment variable TOKENIZERS_PARALLELISM=(true | false)\n"
     ]
    },
    {
     "name": "stdout",
     "output_type": "stream",
     "text": [
      " The required parameters for the `train_test_split` method are `arrays`, `test_size`, and optionally `random_state`. Here, `arrays` refers to the data to be split, which can be a single array or a list of arrays, while `test_size` represents the proportion of the data to include in the test split (a value between 0 and 1). The `random_state` parameter is used for initializing the internal random number generator, which will decide the splitting of data into train and test indices."
     ]
    }
   ],
   "source": [
    "# Generate response\n",
    "query = \"What are the required parameters for train_test_split method?\"\n",
    "response = generate_response(\n",
    "    llm=\"mistralai/Mixtral-8x7B-Instruct-v0.1\",\n",
    "    temperature=0.0,\n",
    "    stream=True,\n",
    "    system_content=\"Answer the query purely using the context provided. Do not try to make things up. Be succinct.\",\n",
    "    user_content=f\"query: {query}, context: {context}\")\n",
    "\n",
    "# Stream response\n",
    "for content in response:\n",
    "    print(content, end='', flush=True)"
   ]
  },
  {
   "cell_type": "markdown",
   "metadata": {
    "jp-MarkdownHeadingCollapsed": true
   },
   "source": [
    "### Agent"
   ]
  },
  {
   "cell_type": "code",
   "execution_count": 52,
   "metadata": {},
   "outputs": [],
   "source": [
    "import tiktoken\n",
    "\n",
    "def get_num_tokens(text):\n",
    "    enc = tiktoken.get_encoding(\"cl100k_base\")\n",
    "    return len(enc.encode(text))\n",
    "\n",
    "\n",
    "def trim(text, max_context_length):\n",
    "    enc = tiktoken.get_encoding(\"cl100k_base\")\n",
    "    return enc.decode(enc.encode(text)[:max_context_length])\n",
    "\n",
    "MAX_CONTEXT_LENGTHS = {'gpt-4': 8192,\n",
    " 'gpt-3.5-turbo': 4096,\n",
    " 'gpt-4-turbo-2024-04-09' : 128000,\n",
    " 'meta-llama/Llama-2-70b-chat-hf': 4096,\n",
    " 'mistralai/Mistral-7B-Instruct-v0.1': 8192,\n",
    " 'mistralai/Mixtral-8x7B-Instruct-v0.1': 32768}"
   ]
  },
  {
   "cell_type": "code",
   "execution_count": 56,
   "metadata": {},
   "outputs": [],
   "source": [
    "class QueryAgent:\n",
    "    def __init__(self, embedding_model_name=\"thenlper/gte-base\",\n",
    "                 llm=\"mistralai/Mixtral-8x7B-Instruct-v0.1\", temperature=0.0, \n",
    "                 max_context_length=4096, system_content=\"\", assistant_content=\"\"):\n",
    "        \n",
    "        # Embedding model\n",
    "        self.embedding_model = get_embedding_model(\n",
    "            embedding_model_name=embedding_model_name, \n",
    "            model_kwargs={\"device\": \"mps\"}, \n",
    "            encode_kwargs={\"device\": \"mps\", \"batch_size\": 100})\n",
    "        \n",
    "        # Context length (restrict input length to 50% of total context length)\n",
    "        max_context_length = int(0.5*max_context_length)\n",
    "        \n",
    "        # LLM\n",
    "        self.llm = llm\n",
    "        self.temperature = temperature\n",
    "        self.context_length = max_context_length - get_num_tokens(system_content + assistant_content)\n",
    "        self.system_content = system_content\n",
    "        self.assistant_content = assistant_content\n",
    "\n",
    "    def __call__(self, query, num_chunks=5, stream=True):\n",
    "        # Get sources and context\n",
    "        context_results = semantic_search(\n",
    "            query=query, \n",
    "            embedding_model=self.embedding_model,\n",
    "            index=index, \n",
    "            k=num_chunks)\n",
    "            \n",
    "        # Generate response\n",
    "        context = [item[\"text\"] for item in context_results]\n",
    "        sources = [item[\"source\"] for item in context_results]\n",
    "        user_content = f\"query: {query}, context: {context}\"\n",
    "        answer = generate_response(\n",
    "            llm=self.llm,\n",
    "            temperature=self.temperature,\n",
    "            stream=stream,\n",
    "            system_content=self.system_content,\n",
    "            assistant_content=self.assistant_content,\n",
    "            user_content=trim(user_content, self.context_length))\n",
    "\n",
    "        # Result\n",
    "        result = {\n",
    "            \"question\": query,\n",
    "            \"sources\": sources,\n",
    "            \"answer\": answer,\n",
    "            \"llm\": self.llm,\n",
    "        }\n",
    "        return result"
   ]
  },
  {
   "cell_type": "code",
   "execution_count": 59,
   "metadata": {},
   "outputs": [],
   "source": [
    "embedding_model_name = \"thenlper/gte-base\"\n",
    "llm = \"mistralai/Mixtral-8x7B-Instruct-v0.1\""
   ]
  },
  {
   "cell_type": "code",
   "execution_count": 60,
   "metadata": {},
   "outputs": [
    {
     "name": "stdout",
     "output_type": "stream",
     "text": [
      "{\n",
      "  \"question\": \"What is the default number of clusters in Kmeans?\",\n",
      "  \"sources\": [\n",
      "    \"https://scikit-learn.org/stable/auto_examples/cluster/plot_kmeans_assumptions.html#possible-solutions\",\n",
      "    \"https://scikit-learn.org/stable/modules/generated/sklearn.cluster.MiniBatchKMeans.html#sklearn-cluster-minibatchkmeans\",\n",
      "    \"https://scikit-learn.org/stable/auto_examples/cluster/plot_kmeans_assumptions.html#demonstration-of-k-means-assumptions\",\n",
      "    \"https://scikit-learn.org/stable/auto_examples/cluster/plot_kmeans_assumptions.html#fit-models-and-plot-results\",\n",
      "    \"https://scikit-learn.org/stable/auto_examples/text/plot_document_clustering.html#k-means-clustering-on-text-features\",\n",
      "    \"https://scikit-learn.org/stable/auto_examples/text/plot_document_clustering.html#clustering-text-documents-using-k-means\",\n",
      "    \"https://scikit-learn.org/stable/auto_examples/text/plot_document_clustering.html#clustering-sparse-data-with-k-means\",\n",
      "    \"https://scikit-learn.org/stable/auto_examples/cluster/plot_kmeans_assumptions.html#demonstration-of-k-means-assumptions\",\n",
      "    \"https://scikit-learn.org/stable/modules/generated/sklearn.cluster.KMeans.html#sklearn-cluster-kmeans\",\n",
      "    \"https://scikit-learn.org/stable/modules/generated/sklearn.cluster.BisectingKMeans.html#sklearn-cluster-bisectingkmeans\"\n",
      "  ],\n",
      "  \"answer\": \" The default number of clusters in KMeans is 8.\",\n",
      "  \"llm\": \"mistralai/Mixtral-8x7B-Instruct-v0.1\"\n",
      "}\n"
     ]
    }
   ],
   "source": [
    "query = \"What is the default number of clusters in Kmeans?\"\n",
    "\n",
    "system_content = \"Answer the query purely using the context provided. Do not try to make things up. Be succinct.\"\n",
    "agent = QueryAgent(\n",
    "    embedding_model_name=embedding_model_name,\n",
    "    llm=llm,\n",
    "    max_context_length=MAX_CONTEXT_LENGTHS[llm],\n",
    "    system_content=system_content)\n",
    "\n",
    "result = agent(query=query, stream=False, num_chunks=10)\n",
    "print(json.dumps(result, indent=2))"
   ]
  },
  {
   "cell_type": "markdown",
   "metadata": {
    "jp-MarkdownHeadingCollapsed": true
   },
   "source": [
    "### Evaluation"
   ]
  },
  {
   "cell_type": "code",
   "execution_count": 61,
   "metadata": {},
   "outputs": [],
   "source": [
    "from bs4 import BeautifulSoup\n",
    "from IPython.display import JSON, clear_output, display\n",
    "from tqdm import tqdm\n",
    "import urllib.parse\n",
    "import re"
   ]
  },
  {
   "cell_type": "code",
   "execution_count": 68,
   "metadata": {},
   "outputs": [],
   "source": [
    "def extract_from_response(response):\n",
    "    # Define regular expressions for extracting values\n",
    "    answer_pattern = r'\"answer\"\\s*:\\s*\"([^\"]*)\"'\n",
    "    score_pattern = r'\"score\"\\s*:\\s*([0-9]+)'\n",
    "    reasoning_pattern = r'\"reasoning\"\\s*:\\s*\"([^\"]*)\"'\n",
    "\n",
    "    # Extract values using regular expressions\n",
    "    answer_match = re.search(answer_pattern, response)\n",
    "    score_match = re.search(score_pattern, response)\n",
    "    reasoning_match = re.search(reasoning_pattern, response)\n",
    "\n",
    "    # Convert\n",
    "    if answer_match and score_match and reasoning_match:\n",
    "        answer = answer_match.group(1)\n",
    "        score = float(score_match.group(1))\n",
    "        reasoning = reasoning_match.group(1)\n",
    "        return answer, score, reasoning\n",
    "\n",
    "    return \"\", \"\", \"\"\n",
    "\n",
    "def fetch_text(uri):\n",
    "    url, anchor = uri.split(\"#\") if \"#\" in uri else (uri, None)\n",
    "    file_path = Path(WORK_DIR, url.split(\"https://\")[-1])\n",
    "    with open(file_path, \"r\", encoding=\"utf-8\") as file:\n",
    "        html_content = file.read()\n",
    "    soup = BeautifulSoup(html_content, \"html.parser\")\n",
    "    if anchor:\n",
    "        target_element = soup.find(id=anchor)\n",
    "        if target_element:\n",
    "            text = target_element.get_text()\n",
    "        else:\n",
    "            return fetch_text(uri=url)\n",
    "    else:\n",
    "        text = soup.get_text()\n",
    "    return text"
   ]
  },
  {
   "cell_type": "code",
   "execution_count": 69,
   "metadata": {},
   "outputs": [],
   "source": [
    "with open(\"evaluation_datasets/eval-data-reduced-gpt-4.json\", \"r\") as f:\n",
    "    eval_data = json.load(f)"
   ]
  },
  {
   "cell_type": "code",
   "execution_count": 70,
   "metadata": {},
   "outputs": [
    {
     "data": {
      "text/plain": [
       "'https://scikit-learn.org/stable/modules/generated/sklearn.gaussian_process.kernels.RBF.html#sklearn-gaussian-process-kernels-rbf'"
      ]
     },
     "execution_count": 70,
     "metadata": {},
     "output_type": "execute_result"
    }
   ],
   "source": [
    "eval_data[30]['source']"
   ]
  },
  {
   "cell_type": "code",
   "execution_count": 71,
   "metadata": {},
   "outputs": [
    {
     "data": {
      "text/plain": [
       "'Why is the RBF kernel often preferred in Gaussian Process models for complex datasets?'"
      ]
     },
     "execution_count": 71,
     "metadata": {},
     "output_type": "execute_result"
    }
   ],
   "source": [
    "eval_data[30]['question']"
   ]
  },
  {
   "cell_type": "code",
   "execution_count": 72,
   "metadata": {
    "scrolled": true
   },
   "outputs": [
    {
     "name": "stdout",
     "output_type": "stream",
     "text": [
      "\n",
      "sklearn.gaussian_process.kernels.RBF¶\n",
      "\n",
      "\n",
      "class sklearn.gaussian_process.kernels.RBF(length_scale=1.0, length_scale_bounds=(1e-05, 100000.0))[source]¶\n",
      "Radial basis function kernel (aka squared-exponential kernel).\n",
      "The RBF kernel is a stationary kernel. It is also known as the\n",
      "“squared exponential” kernel. It is parameterized by a length scale\n",
      "parameter \\(l>0\\), which can either be a scalar (isotropic variant\n",
      "of the kernel) or a vector with the same number of dimensions as the inputs\n",
      "X (anisotropic variant of the kernel). The kernel is given by:\n",
      "\n",
      "\\[k(x_i, x_j) = \\exp\\left(- \\frac{d(x_i, x_j)^2}{2l^2} \\right)\\]\n",
      "where \\(l\\) is the length scale of the kernel and\n",
      "\\(d(\\cdot,\\cdot)\\) is the Euclidean distance.\n",
      "For advice on how to set the length scale parameter, see e.g. [1].\n",
      "This kernel is infinitely differentiable, which implies that GPs with this\n",
      "kernel as covariance function have mean square derivatives of all orders,\n",
      "and are thus very smooth.\n",
      "See [2], Chapter 4, Section 4.2, for further details of the RBF kernel.\n",
      "Read more in the User Guide.\n",
      "\n",
      "New in version 0.18.\n",
      "\n",
      "\n",
      "Parameters:\n",
      "\n",
      "length_scalefloat or ndarray of shape (n_features,), default=1.0The length scale of the kernel. If a float, an isotropic kernel is\n",
      "used. If an array, an anisotropic kernel is used where each dimension\n",
      "of l defines the length-scale of the respective feature dimension.\n",
      "\n",
      "length_scale_boundspair of floats >= 0 or “fixed”, default=(1e-5, 1e5)The lower and upper bound on ‘length_scale’.\n",
      "If set to “fixed”, ‘length_scale’ cannot be changed during\n",
      "hyperparameter tuning.\n",
      "\n",
      "\n",
      "\n",
      "Attributes:\n",
      "\n",
      "anisotropic\n",
      "boundsReturns the log-transformed bounds on the theta.\n",
      "\n",
      "hyperparameter_length_scale\n",
      "hyperparametersReturns a list of all hyperparameter specifications.\n",
      "\n",
      "n_dimsReturns the number of non-fixed hyperparameters of the kernel.\n",
      "\n",
      "requires_vector_inputReturns whether the kernel is defined on fixed-length feature vectors or generic objects.\n",
      "\n",
      "thetaReturns the (flattened, log-transformed) non-fixed hyperparameters.\n",
      "\n",
      "\n",
      "\n",
      "\n",
      "References\n",
      "\n",
      "\n",
      "[1]\n",
      "David Duvenaud (2014). “The Kernel Cookbook:\n",
      "Advice on Covariance functions”.\n",
      "\n",
      "\n",
      "[2]\n",
      "Carl Edward Rasmussen, Christopher K. I. Williams (2006).\n",
      "“Gaussian Processes for Machine Learning”. The MIT Press.\n",
      "\n",
      "\n",
      "Examples\n",
      ">>> from sklearn.datasets import load_iris\n",
      ">>> from sklearn.gaussian_process import GaussianProcessClassifier\n",
      ">>> from sklearn.gaussian_process.kernels import RBF\n",
      ">>> X, y = load_iris(return_X_y=True)\n",
      ">>> kernel = 1.0 * RBF(1.0)\n",
      ">>> gpc = GaussianProcessClassifier(kernel=kernel,\n",
      "...         random_state=0).fit(X, y)\n",
      ">>> gpc.score(X, y)\n",
      "0.9866...\n",
      ">>> gpc.predict_proba(X[:2,:])\n",
      "array([[0.8354..., 0.03228..., 0.1322...],\n",
      "       [0.7906..., 0.0652..., 0.1441...]])\n",
      "\n",
      "\n",
      "Methods\n",
      "\n",
      "\n",
      "__call__(X[, Y, eval_gradient])\n",
      "Return the kernel k(X, Y) and optionally its gradient.\n",
      "\n",
      "clone_with_theta(theta)\n",
      "Returns a clone of self with given hyperparameters theta.\n",
      "\n",
      "diag(X)\n",
      "Returns the diagonal of the kernel k(X, X).\n",
      "\n",
      "get_params([deep])\n",
      "Get parameters of this kernel.\n",
      "\n",
      "is_stationary()\n",
      "Returns whether the kernel is stationary.\n",
      "\n",
      "set_params(**params)\n",
      "Set the parameters of this kernel.\n",
      "\n",
      "\n",
      "\n",
      "\n",
      "\n",
      "__call__(X, Y=None, eval_gradient=False)[source]¶\n",
      "Return the kernel k(X, Y) and optionally its gradient.\n",
      "\n",
      "Parameters:\n",
      "\n",
      "Xndarray of shape (n_samples_X, n_features)Left argument of the returned kernel k(X, Y)\n",
      "\n",
      "Yndarray of shape (n_samples_Y, n_features), default=NoneRight argument of the returned kernel k(X, Y). If None, k(X, X)\n",
      "if evaluated instead.\n",
      "\n",
      "eval_gradientbool, default=FalseDetermines whether the gradient with respect to the log of\n",
      "the kernel hyperparameter is computed.\n",
      "Only supported when Y is None.\n",
      "\n",
      "\n",
      "\n",
      "Returns:\n",
      "\n",
      "Kndarray of shape (n_samples_X, n_samples_Y)Kernel k(X, Y)\n",
      "\n",
      "K_gradientndarray of shape (n_samples_X, n_samples_X, n_dims),                 optionalThe gradient of the kernel k(X, X) with respect to the log of the\n",
      "hyperparameter of the kernel. Only returned when eval_gradient\n",
      "is True.\n",
      "\n",
      "\n",
      "\n",
      "\n",
      "\n",
      "\n",
      "\n",
      "property bounds¶\n",
      "Returns the log-transformed bounds on the theta.\n",
      "\n",
      "Returns:\n",
      "\n",
      "boundsndarray of shape (n_dims, 2)The log-transformed bounds on the kernel’s hyperparameters theta\n",
      "\n",
      "\n",
      "\n",
      "\n",
      "\n",
      "\n",
      "\n",
      "clone_with_theta(theta)[source]¶\n",
      "Returns a clone of self with given hyperparameters theta.\n",
      "\n",
      "Parameters:\n",
      "\n",
      "thetandarray of shape (n_dims,)The hyperparameters\n",
      "\n",
      "\n",
      "\n",
      "\n",
      "\n",
      "\n",
      "\n",
      "diag(X)[source]¶\n",
      "Returns the diagonal of the kernel k(X, X).\n",
      "The result of this method is identical to np.diag(self(X)); however,\n",
      "it can be evaluated more efficiently since only the diagonal is\n",
      "evaluated.\n",
      "\n",
      "Parameters:\n",
      "\n",
      "Xndarray of shape (n_samples_X, n_features)Left argument of the returned kernel k(X, Y)\n",
      "\n",
      "\n",
      "\n",
      "Returns:\n",
      "\n",
      "K_diagndarray of shape (n_samples_X,)Diagonal of kernel k(X, X)\n",
      "\n",
      "\n",
      "\n",
      "\n",
      "\n",
      "\n",
      "\n",
      "get_params(deep=True)[source]¶\n",
      "Get parameters of this kernel.\n",
      "\n",
      "Parameters:\n",
      "\n",
      "deepbool, default=TrueIf True, will return the parameters for this estimator and\n",
      "contained subobjects that are estimators.\n",
      "\n",
      "\n",
      "\n",
      "Returns:\n",
      "\n",
      "paramsdictParameter names mapped to their values.\n",
      "\n",
      "\n",
      "\n",
      "\n",
      "\n",
      "\n",
      "\n",
      "property hyperparameters¶\n",
      "Returns a list of all hyperparameter specifications.\n",
      "\n",
      "\n",
      "\n",
      "is_stationary()[source]¶\n",
      "Returns whether the kernel is stationary.\n",
      "\n",
      "\n",
      "\n",
      "property n_dims¶\n",
      "Returns the number of non-fixed hyperparameters of the kernel.\n",
      "\n",
      "\n",
      "\n",
      "property requires_vector_input¶\n",
      "Returns whether the kernel is defined on fixed-length feature\n",
      "vectors or generic objects. Defaults to True for backward\n",
      "compatibility.\n",
      "\n",
      "\n",
      "\n",
      "set_params(**params)[source]¶\n",
      "Set the parameters of this kernel.\n",
      "The method works on simple kernels as well as on nested kernels.\n",
      "The latter have parameters of the form <component>__<parameter>\n",
      "so that it’s possible to update each component of a nested object.\n",
      "\n",
      "Returns:\n",
      "\n",
      "self\n",
      "\n",
      "\n",
      "\n",
      "\n",
      "\n",
      "\n",
      "property theta¶\n",
      "Returns the (flattened, log-transformed) non-fixed hyperparameters.\n",
      "Note that theta are typically the log-transformed values of the\n",
      "kernel’s hyperparameters as this representation of the search space\n",
      "is more amenable for hyperparameter search, as hyperparameters like\n",
      "length-scales naturally live on a log-scale.\n",
      "\n",
      "Returns:\n",
      "\n",
      "thetandarray of shape (n_dims,)The non-fixed, log-transformed hyperparameters of the kernel\n",
      "\n",
      "\n",
      "\n",
      "\n",
      "\n",
      "\n",
      "\n",
      "Examples using sklearn.gaussian_process.kernels.RBF¶\n",
      "\n",
      "Classifier comparison\n",
      "Classifier comparison\n",
      "\n",
      "Plot classification probability\n",
      "Plot classification probability\n",
      "\n",
      "Ability of Gaussian process regression (GPR) to estimate data noise-level\n",
      "Ability of Gaussian process regression (GPR) to estimate data noise-level\n",
      "\n",
      "Comparison of kernel ridge and Gaussian process regression\n",
      "Comparison of kernel ridge and Gaussian process regression\n",
      "\n",
      "Forecasting of CO2 level on Mona Loa dataset using Gaussian process regression (GPR)\n",
      "Forecasting of CO2 level on Mona Loa dataset using Gaussian process regression (GPR)\n",
      "\n",
      "Gaussian Processes regression: basic introductory example\n",
      "Gaussian Processes regression: basic introductory example\n",
      "\n",
      "Gaussian process classification (GPC) on iris dataset\n",
      "Gaussian process classification (GPC) on iris dataset\n",
      "\n",
      "Illustration of Gaussian process classification (GPC) on the XOR dataset\n",
      "Illustration of Gaussian process classification (GPC) on the XOR dataset\n",
      "\n",
      "Illustration of prior and posterior Gaussian process for different kernels\n",
      "Illustration of prior and posterior Gaussian process for different kernels\n",
      "\n",
      "Probabilistic predictions with Gaussian process classification (GPC)\n",
      "Probabilistic predictions with Gaussian process classification (GPC)\n",
      "\n",
      "\n"
     ]
    }
   ],
   "source": [
    "# Sample\n",
    "uri = eval_data[30]['source']\n",
    "print(fetch_text(uri=uri))"
   ]
  },
  {
   "cell_type": "code",
   "execution_count": 73,
   "metadata": {},
   "outputs": [],
   "source": [
    "# Content for inference\n",
    "system_content = \"\"\"\n",
    "    Answer the query using the context provided. Be succinct.\n",
    "    Then, you must {score} your response between 1 and 5.\n",
    "    You must return your response in a line with only the score.\n",
    "    Do not add any more details.\n",
    "    On a separate line provide your {reasoning} for the score as well.\n",
    "    Return your response following the exact format outlined below.\n",
    "    Do not add or remove anything.\n",
    "    And all of this must be in a valid JSON format.\n",
    "    \n",
    "    {\"answer\": answer,\n",
    "     \"score\": score,\n",
    "     \"reasoning\": reasoning}\n",
    "    \"\"\"\n",
    "assistant_content = \"\""
   ]
  },
  {
   "cell_type": "code",
   "execution_count": 74,
   "metadata": {},
   "outputs": [],
   "source": [
    "class QueryAgentWithContext(QueryAgent):\n",
    "    def __call__(self, query, context):\n",
    "        user_content = f\"query: {query}, context: {context}\"\n",
    "        response = generate_response(\n",
    "            llm=self.llm,\n",
    "            temperature=self.temperature,\n",
    "            stream=False,\n",
    "            system_content=self.system_content,\n",
    "            assistant_content=self.assistant_content,\n",
    "            user_content=user_content[: self.context_length])\n",
    "        return response"
   ]
  },
  {
   "cell_type": "code",
   "execution_count": 75,
   "metadata": {},
   "outputs": [],
   "source": [
    "def get_references(data, llm, temperature, system_content, assistant_content, num_samples=None):\n",
    "    # Initialize agent\n",
    "    agent = QueryAgentWithContext(\n",
    "        llm=llm, \n",
    "        temperature=temperature,\n",
    "        system_content=system_content,\n",
    "        assistant_content=assistant_content)\n",
    "    \n",
    "    results = []\n",
    "    for row in tqdm(data[:num_samples]):\n",
    "        # Generate response\n",
    "        query = row[\"question\"]\n",
    "        context = fetch_text(uri=row[\"source\"])\n",
    "        response = agent(query=query, context=context)\n",
    "\n",
    "        # Extract from response\n",
    "        answer, score, reasoning = extract_from_response(response=response)\n",
    "        result = ({\n",
    "                \"question\": query,\n",
    "                \"source\": row[\"source\"],\n",
    "                \"answer\": answer,\n",
    "                \"score\": score,\n",
    "                \"reasoning\": reasoning,\n",
    "            })\n",
    "        results.append(result)\n",
    "        clear_output(wait=True)\n",
    "        display(JSON(json.dumps(result, indent=2)))\n",
    "    return results"
   ]
  },
  {
   "cell_type": "code",
   "execution_count": 79,
   "metadata": {},
   "outputs": [
    {
     "name": "stdout",
     "output_type": "stream",
     "text": [
      "4.20815\n"
     ]
    }
   ],
   "source": [
    "# gpt-4\n",
    "results = get_references(\n",
    "    data=eval_data, num_samples=None, llm=\"gpt-4-turbo-2024-04-09\", temperature=0.0, \n",
    "    system_content=system_content, assistant_content=assistant_content)\n",
    "\n",
    "print(np.mean([float(result[\"score\"]) for result in results if result[\"score\"]]))"
   ]
  },
  {
   "cell_type": "code",
   "execution_count": 78,
   "metadata": {},
   "outputs": [],
   "source": [
    "# Save to file\n",
    "with open('evaluation-gpt-4.json', \"w\") as fp:\n",
    "    json.dump(results, fp, indent=4)"
   ]
  },
  {
   "cell_type": "markdown",
   "metadata": {
    "jp-MarkdownHeadingCollapsed": true
   },
   "source": [
    "### Experiments"
   ]
  },
  {
   "cell_type": "code",
   "execution_count": 3,
   "metadata": {},
   "outputs": [],
   "source": [
    "import matplotlib.pyplot as plt\n",
    "from sklearnrag.generate import generate_responses\n",
    "from sklearnrag.evaluate import evaluate_responses\n",
    "from sklearnrag.config import EMBEDDING_DIMENSIONS, MAX_CONTEXT_LENGTHS"
   ]
  },
  {
   "cell_type": "code",
   "execution_count": 4,
   "metadata": {},
   "outputs": [],
   "source": [
    "llm = \"mistralai/Mixtral-8x7B-Instruct-v0.1\"\n",
    "embedding_model_name = \"thenlper/gte-large\"\n",
    "EVALUATOR = \"gpt-4-turbo-2024-04-09\"\n",
    "EXPERIMENTS_DIR = Path(WORK_DIR, \"experiments\")\n",
    "NUM_SAMPLES = None\n",
    "\n",
    "# Refernces\n",
    "REFERENCES_FILE_PATH = Path(EXPERIMENTS_DIR, \"references\", \"gpt-4-reduced.json\")\n",
    "REFERENCES_FILE_PATH.parent.mkdir(parents=True, exist_ok=True)"
   ]
  },
  {
   "cell_type": "code",
   "execution_count": 5,
   "metadata": {},
   "outputs": [],
   "source": [
    "def run_experiment(\n",
    "    experiment_name,\n",
    "    chunk_size, chunk_overlap, num_chunks,\n",
    "    embedding_model_name, embedding_dim,\n",
    "    llm, evaluator,\n",
    "    docs_dir, experiments_dir, references_fp,\n",
    "    system_content=\"Answer the query using the context provided. Be succinct.\",\n",
    "    num_samples=None):\n",
    "    \"\"\"Generate responses and evaluate them.\"\"\"\n",
    "    \n",
    "    # Generate responses\n",
    "    generate_responses(\n",
    "        experiment_name=experiment_name, \n",
    "        chunk_size=chunk_size, \n",
    "        chunk_overlap=chunk_overlap, \n",
    "        num_chunks=num_chunks,\n",
    "        embedding_model_name=embedding_model_name,\n",
    "        embedding_dim=embedding_dim,\n",
    "        llm=llm, \n",
    "        temperature=0.0, \n",
    "        max_context_length=MAX_CONTEXT_LENGTHS[llm], \n",
    "        system_content=system_content,\n",
    "        assistant_content=\"\",\n",
    "        docs_dir=docs_dir,\n",
    "        experiments_dir=experiments_dir,\n",
    "        references_fp=references_fp,\n",
    "        num_samples = num_samples)\n",
    "\n",
    "    # Evaluate responses\n",
    "    evaluation_system_content = \"\"\"\n",
    "        Your job is to rate the quality of our generated answer {generated_answer}\n",
    "        given a query {query} and a reference answer {reference_answer}.\n",
    "        Your score has to be between 1 and 5.\n",
    "        You must return your response in a line with only the score.\n",
    "        Do not return answers in any other format.\n",
    "        On a separate line provide your reasoning for the score as well.\n",
    "        \"\"\"\n",
    "    evaluate_responses(\n",
    "        experiment_name=experiment_name,\n",
    "        evaluator=evaluator, \n",
    "        temperature=0.0, \n",
    "        max_context_length=MAX_CONTEXT_LENGTHS[evaluator],\n",
    "        system_content=evaluation_system_content,\n",
    "        assistant_content=\"\",\n",
    "        experiments_dir=experiments_dir,\n",
    "        references_fp=references_fp,\n",
    "        responses_fp=str(Path(experiments_dir, \"responses\", f\"{experiment_name}.json\")),\n",
    "        num_samples = num_samples)"
   ]
  },
  {
   "cell_type": "code",
   "execution_count": 6,
   "metadata": {},
   "outputs": [],
   "source": [
    "def print_experiment(experiment_name, experiments_dir, evaluator=EVALUATOR, verbose=True):\n",
    "    eval_fp = Path(experiments_dir, \"evaluations\", f\"{experiment_name}_{evaluator}.json\")\n",
    "    with open(eval_fp, \"r\") as fp:\n",
    "        d = json.load(fp)\n",
    "    retrieval_score = d[\"retrieval_score\"]\n",
    "    quality_score = d[\"quality_score\"]\n",
    "    if verbose:\n",
    "        print (experiment_name)\n",
    "        print (\"  retrieval score:\", retrieval_score)\n",
    "        print (\"  quality score:\", quality_score)\n",
    "        print ()\n",
    "    return {\"retrieval_score\": retrieval_score, \"quality_score\": quality_score}"
   ]
  },
  {
   "cell_type": "code",
   "execution_count": 7,
   "metadata": {},
   "outputs": [],
   "source": [
    "def plot_scores(scores):\n",
    "    # Prepare data for plotting\n",
    "    experiment_names = list(scores.keys())\n",
    "    retrieval_scores = [scores[experiment_name][\"retrieval_score\"] for experiment_name in experiment_names]\n",
    "    quality_scores = [scores[experiment_name][\"quality_score\"] for experiment_name in experiment_names]\n",
    "    \n",
    "    # Plotting\n",
    "    plt.figure(figsize=(10, 3))\n",
    "    for i, experiment_name in enumerate(experiment_names):\n",
    "        plt.scatter(quality_scores[i], retrieval_scores[i], label=experiment_name)\n",
    "        plt.text(quality_scores[i]+0.005, retrieval_scores[i]+0.005, experiment_name, ha=\"right\")\n",
    "        \n",
    "    # Add labels and title\n",
    "    plt.xlabel(\"Quality Score\")\n",
    "    plt.ylabel(\"Retrieval Score\")\n",
    "    plt.legend(title=\"Experiments\")\n",
    "    \n",
    "    # Show the plot\n",
    "    plt.show()"
   ]
  },
  {
   "cell_type": "markdown",
   "metadata": {
    "jp-MarkdownHeadingCollapsed": true
   },
   "source": [
    "#### 1. Without context"
   ]
  },
  {
   "cell_type": "code",
   "execution_count": 105,
   "metadata": {},
   "outputs": [
    {
     "data": {
      "application/json": {
       "generated_answer": " I'm sorry for the confusion, but I need some context to provide an accurate answer. However, I can give you a general idea of how to perform Isomap Embedding using scikit-learn:\n\n1. First, you need to import the necessary libraries:\n```python\nfrom sklearn.manifold import Isomap\nimport numpy as np\n```\n2. Next, create some sample data:\n```python\nX = np.random.rand(100, 10)\n```\n3. Instantiate the Isomap model with the number of neighbors and the size of the manifold:\n```python\nisomap = Isomap(n_neighbors=10, n_components=2)\n```\n4. Fit the model to the data and transform the data to obtain the low-dimensional embedding:\n```python\nembedding = isomap.fit_transform(X)\n```\nThat's it! You have now performed Isomap Embedding using scikit-learn.",
       "question": "How do you perform Isomap Embedding using scikit-learn?",
       "reasoning": "The generated answer provides a detailed, step-by-step guide on how to perform Isomap Embedding using scikit-learn, which is very useful for someone looking to understand the practical implementation. It includes code snippets, which are correct and directly applicable. However, the initial statement about needing more context is unnecessary and might confuse the reader, as the subsequent content is sufficiently clear and complete. The reference answer is much less detailed, only mentioning the function used for Isomap in scikit-learn without any implementation details. The generated answer goes beyond the reference by providing a practical example, which enhances its quality. Hence, a score of 4 is appropriate, reflecting the high quality of the answer with a minor deduction for the initial unnecessary remark.",
       "reference_answer": "The Isomap Embedding can be performed using the 'manifold.Isomap' function in the sklearn.manifold module.",
       "score": 4,
       "sources": []
      },
      "text/plain": [
       "<IPython.core.display.JSON object>"
      ]
     },
     "metadata": {
      "application/json": {
       "expanded": false,
       "root": "root"
      }
     },
     "output_type": "display_data"
    },
    {
     "name": "stderr",
     "output_type": "stream",
     "text": [
      "100%|█████████████████████████████████████████| 151/151 [12:13<00:00,  4.86s/it]\n"
     ]
    }
   ],
   "source": [
    "# Without context\n",
    "num_chunks = 0\n",
    "experiment_name = f\"without-context\"\n",
    "\n",
    "run_experiment(\n",
    "    experiment_name=experiment_name, \n",
    "    chunk_size=1000, \n",
    "    chunk_overlap=100,\n",
    "    num_chunks=num_chunks,\n",
    "    embedding_model_name=embedding_model_name,\n",
    "    embedding_dim=EMBEDDING_DIMENSIONS[embedding_model_name],\n",
    "    llm=llm,\n",
    "    evaluator=EVALUATOR,\n",
    "    docs_dir=DOCS_DIR, \n",
    "    experiments_dir=EXPERIMENTS_DIR, \n",
    "    references_fp=REFERENCES_FILE_PATH,\n",
    "    num_samples = NUM_SAMPLES)"
   ]
  },
  {
   "cell_type": "markdown",
   "metadata": {
    "jp-MarkdownHeadingCollapsed": true
   },
   "source": [
    "#### 2. With context"
   ]
  },
  {
   "cell_type": "code",
   "execution_count": 110,
   "metadata": {},
   "outputs": [
    {
     "data": {
      "application/json": {
       "generated_answer": " To perform Isomap embedding using scikit-learn, you can use the `Isomap` class provided in the `sklearn.manifold` module. Here's a basic example:\n\n```python\nfrom sklearn.manifold import Isomap\n\nisomap = Isomap(n_neighbors=5, n_components=2)  # Initialize Isomap\nS_isomap = isomap.fit_transform(S_points)  # Fit and transform the data\n```\n\nIn this example, `S_points` is the data you want to apply Isomap embedding to. The `n_neighbors` parameter determines how many neighbors are considered for each point, and `n_components` specifies the number of dimensions in the embedded space. You can adjust these parameters based on your specific needs.",
       "question": "How do you perform Isomap Embedding using scikit-learn?",
       "reasoning": "The generated answer provides a comprehensive and detailed explanation on how to perform Isomap embedding using scikit-learn, which is highly informative compared to the reference answer. It includes a practical example with code, explains the parameters used, and specifies the module where the `Isomap` class can be found. This makes the generated answer significantly more useful for someone looking to understand or implement Isomap embedding in Python.",
       "reference_answer": "The Isomap Embedding can be performed using the 'manifold.Isomap' function in the sklearn.manifold module.",
       "score": 5,
       "sources": [
        "https://scikit-learn.org/stable/modules/generated/sklearn.manifold.Isomap.html#sklearn-manifold-isomap",
        "https://scikit-learn.org/stable/auto_examples/manifold/plot_compare_methods.html#isomap-embedding",
        "https://scikit-learn.org/stable/modules/manifold.html#manifold-learning",
        "https://scikit-learn.org/stable/auto_examples/manifold/plot_compare_methods.html#comparison-of-manifold-learning-methods",
        "https://scikit-learn.org/stable/modules/manifold.html#isomap"
       ]
      },
      "text/plain": [
       "<IPython.core.display.JSON object>"
      ]
     },
     "metadata": {
      "application/json": {
       "expanded": false,
       "root": "root"
      }
     },
     "output_type": "display_data"
    },
    {
     "name": "stderr",
     "output_type": "stream",
     "text": [
      "100%|█████████████████████████████████████████| 151/151 [10:23<00:00,  4.13s/it]\n"
     ]
    }
   ],
   "source": [
    "# With context\n",
    "num_chunks = 5\n",
    "experiment_name = \"with-context\"\n",
    "\n",
    "run_experiment(\n",
    "    experiment_name=experiment_name, \n",
    "    chunk_size=1000, \n",
    "    chunk_overlap=100, \n",
    "    num_chunks=num_chunks,\n",
    "    embedding_model_name=embedding_model_name,\n",
    "    embedding_dim=EMBEDDING_DIMENSIONS[embedding_model_name],\n",
    "    llm=llm,\n",
    "    evaluator=EVALUATOR,\n",
    "    docs_dir=DOCS_DIR, \n",
    "    experiments_dir=EXPERIMENTS_DIR, \n",
    "    references_fp=REFERENCES_FILE_PATH,\n",
    "    num_samples=NUM_SAMPLES)"
   ]
  },
  {
   "cell_type": "code",
   "execution_count": 111,
   "metadata": {},
   "outputs": [
    {
     "name": "stdout",
     "output_type": "stream",
     "text": [
      "without-context\n",
      "  retrieval score: 0.0\n",
      "  quality score: 3.8874172185430464\n",
      "\n",
      "with-context\n",
      "  retrieval score: 0.5496688741721855\n",
      "  quality score: 4.264900662251655\n",
      "\n"
     ]
    },
    {
     "data": {
      "image/png": "[encoded data removed]",
      "text/plain": [
       "<Figure size 1000x300 with 1 Axes>"
      ]
     },
     "metadata": {},
     "output_type": "display_data"
    }
   ],
   "source": [
    "scores = {}\n",
    "for experiment_name in [\"without-context\",\"with-context\"]:\n",
    "    scores[experiment_name] = print_experiment(experiment_name, EXPERIMENTS_DIR)\n",
    "plot_scores(scores=scores)"
   ]
  },
  {
   "cell_type": "markdown",
   "metadata": {
    "jp-MarkdownHeadingCollapsed": true
   },
   "source": [
    "#### 3. Varying chunk size"
   ]
  },
  {
   "cell_type": "code",
   "execution_count": 120,
   "metadata": {},
   "outputs": [],
   "source": [
    "experiment_names = []\n",
    "chunk_sizes = [300, 500, 750, 1000]"
   ]
  },
  {
   "cell_type": "code",
   "execution_count": 121,
   "metadata": {},
   "outputs": [
    {
     "data": {
      "application/json": {
       "generated_answer": " To perform Isomap embedding using scikit-learn, you can use the `Isomap` class provided in the `sklearn.manifold` module. Here's a basic example:\n\n```python\nfrom sklearn.manifold import Isomap\n\nisomap = Isomap(n_neighbors=5, n_components=2)  # Initialize Isomap\nS_isomap = isomap.fit_transform(S_points)  # Fit and transform the data\n```\n\nIn this example, `S_points` is the data you want to apply Isomap embedding to. The `n_neighbors` parameter determines how many neighbors are considered for each point, and `n_components` specifies the number of dimensions in the embedded space. You can adjust these parameters based on your specific needs.",
       "question": "How do you perform Isomap Embedding using scikit-learn?",
       "reasoning": "The generated answer provides a comprehensive and detailed explanation on how to perform Isomap embedding using scikit-learn, which is highly informative compared to the reference answer. It includes a practical example with code, explains the parameters used, and specifies the module where the `Isomap` class can be found. This makes the generated answer significantly more useful for someone looking to understand or implement Isomap embedding in Python.",
       "reference_answer": "The Isomap Embedding can be performed using the 'manifold.Isomap' function in the sklearn.manifold module.",
       "score": 5,
       "sources": [
        "https://scikit-learn.org/stable/modules/generated/sklearn.manifold.Isomap.html#sklearn-manifold-isomap",
        "https://scikit-learn.org/stable/auto_examples/manifold/plot_compare_methods.html#isomap-embedding",
        "https://scikit-learn.org/stable/modules/manifold.html#manifold-learning",
        "https://scikit-learn.org/stable/auto_examples/manifold/plot_compare_methods.html#comparison-of-manifold-learning-methods",
        "https://scikit-learn.org/stable/modules/manifold.html#isomap"
       ]
      },
      "text/plain": [
       "<IPython.core.display.JSON object>"
      ]
     },
     "metadata": {
      "application/json": {
       "expanded": false,
       "root": "root"
      }
     },
     "output_type": "display_data"
    },
    {
     "name": "stderr",
     "output_type": "stream",
     "text": [
      "100%|█████████████████████████████████████████| 151/151 [09:43<00:00,  3.86s/it]\n"
     ]
    }
   ],
   "source": [
    "for chunk_size in chunk_sizes:\n",
    "    experiment_name = f\"chunk-size-{chunk_size}\"\n",
    "    experiment_names.append(experiment_name)\n",
    "    print(f\"Running experiment {experiment_name}\\n\\n\")\n",
    "    \n",
    "    run_experiment(\n",
    "        experiment_name=experiment_name, \n",
    "        chunk_size=chunk_size, \n",
    "        chunk_overlap=100, \n",
    "        num_chunks=5,\n",
    "        embedding_model_name=embedding_model_name,\n",
    "        embedding_dim=EMBEDDING_DIMENSIONS[embedding_model_name],\n",
    "        llm=llm,\n",
    "        evaluator=EVALUATOR,\n",
    "        docs_dir=DOCS_DIR, \n",
    "        experiments_dir=EXPERIMENTS_DIR, \n",
    "        references_fp=REFERENCES_FILE_PATH,\n",
    "        num_samples=NUM_SAMPLES)"
   ]
  },
  {
   "cell_type": "code",
   "execution_count": 122,
   "metadata": {},
   "outputs": [
    {
     "name": "stdout",
     "output_type": "stream",
     "text": [
      "chunk-size-300\n",
      "  retrieval score: 0.5960264900662252\n",
      "  quality score: 4.139072847682119\n",
      "\n",
      "chunk-size-500\n",
      "  retrieval score: 0.5894039735099338\n",
      "  quality score: 4.317880794701987\n",
      "\n",
      "chunk-size-750\n",
      "  retrieval score: 0.5827814569536424\n",
      "  quality score: 4.211920529801325\n",
      "\n",
      "chunk-size-1000\n",
      "  retrieval score: 0.5496688741721855\n",
      "  quality score: 4.258278145695364\n",
      "\n"
     ]
    },
    {
     "data": {
      "image/png": "[encoded data removed]",
      "text/plain": [
       "<Figure size 1000x300 with 1 Axes>"
      ]
     },
     "metadata": {},
     "output_type": "display_data"
    }
   ],
   "source": [
    "scores = {}\n",
    "for experiment_name in experiment_names:\n",
    "    scores[experiment_name] = print_experiment(experiment_name, EXPERIMENTS_DIR)\n",
    "plot_scores(scores=scores)"
   ]
  },
  {
   "cell_type": "markdown",
   "metadata": {
    "jp-MarkdownHeadingCollapsed": true
   },
   "source": [
    "#### 4. Number of chunks"
   ]
  },
  {
   "cell_type": "code",
   "execution_count": 40,
   "metadata": {},
   "outputs": [],
   "source": [
    "experiment_names = []\n",
    "num_chunks_list = [1, 3, 5, 7, 10]"
   ]
  },
  {
   "cell_type": "code",
   "execution_count": 43,
   "metadata": {},
   "outputs": [
    {
     "data": {
      "application/json": {
       "generated_answer": " To perform Isomap Embedding using scikit-learn, you can use the `Isomap` object from the `sklearn.manifold` module. Here's an example:\n\n```python\nfrom sklearn.manifold import Isomap\n\nisomap = Isomap(n_neighbors=n_neighbors, n_components=n_components, p=1)\nS_isomap = isomap.fit_transform(S_points)\n```\n\nIn this example, `n_neighbors` is the number of neighbors to consider for each point, `n_components` is the number of dimensions of the embedded space, and `p` is the power of the Minkowski metric used for the distance calculation.\n\nAfter fitting the Isomap model to your data with `fit_transform()`, the embedded space will be stored in the `S_isomap` variable.",
       "question": "How do you perform Isomap Embedding using scikit-learn?",
       "reasoning": "The generated answer provides a comprehensive and detailed explanation on how to perform Isomap Embedding using scikit-learn, which is highly informative compared to the reference answer. It includes a practical example with code, explains the parameters used, and describes the process and output, making it very useful for someone looking to understand or implement this technique.",
       "reference_answer": "The Isomap Embedding can be performed using the 'manifold.Isomap' function in the sklearn.manifold module.",
       "score": 5,
       "sources": [
        "https://scikit-learn.org/stable/modules/generated/sklearn.manifold.Isomap.html#sklearn-manifold-isomap",
        "https://scikit-learn.org/stable/auto_examples/manifold/plot_compare_methods.html#isomap-embedding",
        "https://scikit-learn.org/stable/whats_new/v1.4.html#version-1-4",
        "https://scikit-learn.org/stable/modules/manifold.html#manifold-learning",
        "https://scikit-learn.org/stable/whats_new/v1.4.html#version-1-4-0",
        "https://scikit-learn.org/stable/whats_new/v1.4.html#support-for-scipy-sparse-arrays",
        "https://scikit-learn.org/stable/auto_examples/manifold/plot_compare_methods.html#define-algorithms-for-the-manifold-learning",
        "https://scikit-learn.org/stable/auto_examples/manifold/plot_compare_methods.html#comparison-of-manifold-learning-methods",
        "https://scikit-learn.org/stable/modules/manifold.html#isomap"
       ]
      },
      "text/plain": [
       "<IPython.core.display.JSON object>"
      ]
     },
     "metadata": {
      "application/json": {
       "expanded": false,
       "root": "root"
      }
     },
     "output_type": "display_data"
    },
    {
     "name": "stderr",
     "output_type": "stream",
     "text": [
      "100%|█████████████████████████████████████████| 151/151 [10:10<00:00,  4.05s/it]\n"
     ]
    }
   ],
   "source": [
    "for num_chunks in num_chunks_list:\n",
    "    experiment_name = f\"num-chunks-{num_chunks}\"\n",
    "    experiment_names.append(experiment_name)\n",
    "    run_experiment(\n",
    "        experiment_name=experiment_name,\n",
    "        chunk_size=500, \n",
    "        chunk_overlap=100, \n",
    "        num_chunks=num_chunks,\n",
    "        embedding_model_name=embedding_model_name,\n",
    "        embedding_dim=EMBEDDING_DIMENSIONS[embedding_model_name],\n",
    "        llm=llm,\n",
    "        evaluator=EVALUATOR,\n",
    "        docs_dir=DOCS_DIR, \n",
    "        experiments_dir=EXPERIMENTS_DIR, \n",
    "        references_fp=REFERENCES_FILE_PATH,\n",
    "        num_samples=NUM_SAMPLES)"
   ]
  },
  {
   "cell_type": "code",
   "execution_count": 48,
   "metadata": {},
   "outputs": [
    {
     "name": "stdout",
     "output_type": "stream",
     "text": [
      "num-chunks-1\n",
      "  retrieval score: 0.1456953642384106\n",
      "  quality score: 4.125827814569536\n",
      "\n",
      "num-chunks-3\n",
      "  retrieval score: 0.36423841059602646\n",
      "  quality score: 4.2052980132450335\n",
      "\n",
      "num-chunks-5\n",
      "  retrieval score: 0.5894039735099338\n",
      "  quality score: 4.33112582781457\n",
      "\n",
      "num-chunks-7\n",
      "  retrieval score: 0.6490066225165563\n",
      "  quality score: 4.3841059602649\n",
      "\n",
      "num-chunks-10\n",
      "  retrieval score: 0.7086092715231788\n",
      "  quality score: 4.344370860927152\n",
      "\n"
     ]
    },
    {
     "data": {
      "image/png": "[encoded data removed]",
      "text/plain": [
       "<Figure size 1000x300 with 1 Axes>"
      ]
     },
     "metadata": {},
     "output_type": "display_data"
    }
   ],
   "source": [
    "scores = {}\n",
    "for experiment_name in experiment_names:\n",
    "    scores[experiment_name] = print_experiment(experiment_name, EXPERIMENTS_DIR)\n",
    "plot_scores(scores=scores)"
   ]
  },
  {
   "cell_type": "markdown",
   "metadata": {
    "jp-MarkdownHeadingCollapsed": true
   },
   "source": [
    "#### 5. Embedding models"
   ]
  },
  {
   "cell_type": "code",
   "execution_count": 49,
   "metadata": {},
   "outputs": [],
   "source": [
    "experiment_names = []\n",
    "embedding_model_names = [\"thenlper/gte-base\", \"thenlper/gte-large\", \"text-embedding-3-large\"]"
   ]
  },
  {
   "cell_type": "code",
   "execution_count": 50,
   "metadata": {},
   "outputs": [
    {
     "data": {
      "application/json": {
       "generated_answer": " To perform Isomap Embedding using scikit-learn, you can use the `Isomap` class provided in the `sklearn.manifold` module. Here's a basic example:\n\n```python\nfrom sklearn.manifold import Isomap\n\nisomap = Isomap(n_neighbors=n_neighbors, n_components=n_components, p=1)\nS_isomap = isomap.fit_transform(S_points)\n\nplot_2d(S_isomap, S_color, \"Isomap Embedding\")\n```\n\nIn this example, `n_neighbors` is the number of neighbors to consider for each point, `n_components` is the number of dimensions of the embedded space, and `p` is the power of the Minkowski metric used for the distance calculation. `S_points` is the input data, and `plot_2d` is a function to visualize the embedded data.",
       "question": "How do you perform Isomap Embedding using scikit-learn?",
       "reasoning": "The generated answer provides a detailed and practical guide on how to perform Isomap Embedding using scikit-learn, including a code example which is very useful for implementation. It explains the parameters used in the `Isomap` class and even includes a visualization step, which is beyond the basic requirement. However, it could improve by explaining what Isomap Embedding is and why one might use it, which would make the answer more comprehensive. The reference answer is much less detailed, only mentioning the function used, so the generated answer adds significant value by comparison.",
       "reference_answer": "The Isomap Embedding can be performed using the 'manifold.Isomap' function in the sklearn.manifold module.",
       "score": 4,
       "sources": [
        "https://scikit-learn.org/stable/auto_examples/manifold/plot_compare_methods.html#isomap-embedding",
        "https://scikit-learn.org/stable/modules/classes.html#module-sklearn.manifold",
        "https://scikit-learn.org/stable/modules/manifold.html#manifold-learning",
        "https://scikit-learn.org/stable/auto_examples/manifold/plot_compare_methods.html#comparison-of-manifold-learning-methods",
        "https://scikit-learn.org/stable/modules/classes.html#api-reference",
        "https://scikit-learn.org/stable/auto_examples/manifold/plot_compare_methods.html#define-algorithms-for-the-manifold-learning",
        "https://scikit-learn.org/stable/modules/manifold.html#isomap"
       ]
      },
      "text/plain": [
       "<IPython.core.display.JSON object>"
      ]
     },
     "metadata": {
      "application/json": {
       "expanded": false,
       "root": "root"
      }
     },
     "output_type": "display_data"
    },
    {
     "name": "stderr",
     "output_type": "stream",
     "text": [
      "100%|█████████████████████████████████████████| 151/151 [08:13<00:00,  3.27s/it]\n"
     ]
    }
   ],
   "source": [
    "for embedding_model_name in embedding_model_names:\n",
    "    experiment_name = f\"{embedding_model_name.split('/')[-1]}\"\n",
    "    experiment_names.append(experiment_name)\n",
    "    run_experiment(\n",
    "        experiment_name=experiment_name, \n",
    "        chunk_size=500, \n",
    "        chunk_overlap=100, \n",
    "        num_chunks=7,\n",
    "        embedding_model_name=embedding_model_name,\n",
    "        embedding_dim=EMBEDDING_DIMENSIONS[embedding_model_name],\n",
    "        llm=llm,\n",
    "        evaluator=EVALUATOR,\n",
    "        docs_dir=DOCS_DIR, \n",
    "        experiments_dir=EXPERIMENTS_DIR, \n",
    "        references_fp=REFERENCES_FILE_PATH,\n",
    "        num_samples= NUM_SAMPLES)"
   ]
  },
  {
   "cell_type": "code",
   "execution_count": 51,
   "metadata": {},
   "outputs": [
    {
     "name": "stdout",
     "output_type": "stream",
     "text": [
      "gte-base\n",
      "  retrieval score: 0.6357615894039735\n",
      "  quality score: 4.3509933774834435\n",
      "\n",
      "gte-large\n",
      "  retrieval score: 0.6556291390728477\n",
      "  quality score: 4.337748344370861\n",
      "\n",
      "text-embedding-3-large\n",
      "  retrieval score: 0.6423841059602649\n",
      "  quality score: 4.264900662251655\n",
      "\n"
     ]
    },
    {
     "data": {
      "image/png": "[encoded data removed]",
      "text/plain": [
       "<Figure size 1000x300 with 1 Axes>"
      ]
     },
     "metadata": {},
     "output_type": "display_data"
    }
   ],
   "source": [
    "scores = {}\n",
    "for experiment_name in experiment_names:\n",
    "    scores[experiment_name] = print_experiment(experiment_name, EXPERIMENTS_DIR)\n",
    "plot_scores(scores=scores)"
   ]
  },
  {
   "cell_type": "markdown",
   "metadata": {
    "jp-MarkdownHeadingCollapsed": true
   },
   "source": [
    "#### 6. Open vs Closed Source LLMs"
   ]
  },
  {
   "cell_type": "code",
   "execution_count": 8,
   "metadata": {},
   "outputs": [],
   "source": [
    "experiment_names = []\n",
    "llms = [\"gpt-4-turbo-2024-04-09\",\n",
    "        \"meta-llama/Llama-2-70b-chat-hf\",\n",
    "        \"mistralai/Mistral-7B-Instruct-v0.1\",\n",
    "        \"mistralai/Mixtral-8x7B-Instruct-v0.1\"]\n",
    "\n",
    "embedding_model_name = \"thenlper/gte-large\""
   ]
  },
  {
   "cell_type": "code",
   "execution_count": 9,
   "metadata": {},
   "outputs": [
    {
     "data": {
      "application/json": {
       "generated_answer": " To perform Isomap embedding using scikit-learn, you can use the `Isomap` class in the `sklearn.manifold` module. Here's an example:\n```python\nfrom sklearn.manifold import Isomap\n\nisomap = Isomap(n_neighbors=n_neighbors, n_components=n_components, p=1)\nS_isomap = isomap.fit_transform(S_points)\n\nplot_2d(S_isomap, S_color, \"Isomap Embedding\")\n```\nIn this example, `n_neighbors` is the number of neighbors to consider for each point, `n_components` is the number of dimensions of the embedded space, and `p` is the power of the Minkowski metric used for the neighborhood graph (Euclidean distance for `p=2`). `S_points` is the input data, and `plot_2d` is a function to plot the embedded data in 2D.",
       "question": "How do you perform Isomap Embedding using scikit-learn?",
       "reasoning": "The generated answer provides a comprehensive and detailed explanation on how to perform Isomap embedding using scikit-learn, which is highly informative compared to the reference answer. It includes a practical example with code, explains the parameters used, and even suggests a plotting function to visualize the results. This detailed guidance is very useful for someone looking to implement Isomap embedding in their project.",
       "reference_answer": "The Isomap Embedding can be performed using the 'manifold.Isomap' function in the sklearn.manifold module.",
       "score": 5,
       "sources": [
        "https://scikit-learn.org/stable/modules/generated/sklearn.manifold.Isomap.html#sklearn-manifold-isomap",
        "https://scikit-learn.org/stable/whats_new/v1.4.html#support-for-scipy-sparse-arrays",
        "https://scikit-learn.org/stable/whats_new/v1.4.html#version-1-4",
        "https://scikit-learn.org/stable/auto_examples/manifold/plot_compare_methods.html#comparison-of-manifold-learning-methods",
        "https://scikit-learn.org/stable/auto_examples/manifold/plot_compare_methods.html#isomap-embedding",
        "https://scikit-learn.org/stable/whats_new/v1.4.html#version-1-4-0",
        "https://scikit-learn.org/stable/auto_examples/manifold/plot_compare_methods.html#define-algorithms-for-the-manifold-learning"
       ]
      },
      "text/plain": [
       "<IPython.core.display.JSON object>"
      ]
     },
     "metadata": {
      "application/json": {
       "expanded": false,
       "root": "root"
      }
     },
     "output_type": "display_data"
    },
    {
     "name": "stderr",
     "output_type": "stream",
     "text": [
      "100%|█████████████████████████████████████████| 151/151 [08:30<00:00,  3.38s/it]\n"
     ]
    }
   ],
   "source": [
    "for llm in llms:\n",
    "    experiment_name = f\"{llm.split('/')[-1].lower()}\"\n",
    "    experiment_names.append(experiment_name)\n",
    "    print(llm)\n",
    "    run_experiment(\n",
    "        experiment_name=experiment_name, \n",
    "        chunk_size=500, \n",
    "        chunk_overlap=100, \n",
    "        num_chunks=7,\n",
    "        embedding_model_name=embedding_model_name,\n",
    "        embedding_dim=EMBEDDING_DIMENSIONS[embedding_model_name],\n",
    "        llm=llm,\n",
    "        evaluator=EVALUATOR,\n",
    "        docs_dir=DOCS_DIR, \n",
    "        experiments_dir=EXPERIMENTS_DIR, \n",
    "        references_fp=REFERENCES_FILE_PATH,\n",
    "        num_samples=NUM_SAMPLES)"
   ]
  },
  {
   "cell_type": "code",
   "execution_count": 10,
   "metadata": {},
   "outputs": [
    {
     "name": "stdout",
     "output_type": "stream",
     "text": [
      "gpt-4-turbo-2024-04-09\n",
      "  retrieval score: 0.6490066225165563\n",
      "  quality score: 4.503311258278146\n",
      "\n",
      "llama-2-70b-chat-hf\n",
      "  retrieval score: 0.6556291390728477\n",
      "  quality score: 4.072847682119205\n",
      "\n",
      "mistral-7b-instruct-v0.1\n",
      "  retrieval score: 0.6556291390728477\n",
      "  quality score: 3.794701986754967\n",
      "\n",
      "mixtral-8x7b-instruct-v0.1\n",
      "  retrieval score: 0.6490066225165563\n",
      "  quality score: 4.291390728476821\n",
      "\n"
     ]
    },
    {
     "data": {
      "image/png": "[encoded data removed]",
      "text/plain": [
       "<Figure size 1000x300 with 1 Axes>"
      ]
     },
     "metadata": {},
     "output_type": "display_data"
    }
   ],
   "source": [
    "scores = {}\n",
    "for experiment_name in experiment_names:\n",
    "    scores[experiment_name] = print_experiment(experiment_name, EXPERIMENTS_DIR)\n",
    "plot_scores(scores=scores)"
   ]
  }
 ],
 "metadata": {
  "kernelspec": {
   "display_name": "Python 3 (ipykernel)",
   "language": "python",
   "name": "python3"
  },
  "language_info": {
   "codemirror_mode": {
    "name": "ipython",
    "version": 3
   },
   "file_extension": ".py",
   "mimetype": "text/x-python",
   "name": "python",
   "nbconvert_exporter": "python",
   "pygments_lexer": "ipython3",
   "version": "3.9.18"
  }
 },
 "nbformat": 4,
 "nbformat_minor": 4
}
